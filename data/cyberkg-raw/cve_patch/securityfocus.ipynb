{
 "cells": [
  {
   "cell_type": "code",
   "execution_count": null,
   "metadata": {},
   "outputs": [
    {
     "name": "stderr",
     "output_type": "stream",
     "text": [
      "reading links from www.securityfocus.com: 91it [03:21, 10.19s/it]"
     ]
    },
    {
     "name": "stdout",
     "output_type": "stream",
     "text": [
      "http://www.securityfocus.com/bid/18655\n"
     ]
    },
    {
     "name": "stderr",
     "output_type": "stream",
     "text": [
      "reading links from www.securityfocus.com: 341it [11:32,  1.24it/s]"
     ]
    }
   ],
   "source": [
    "import os\n",
    "import json\n",
    "import requests\n",
    "from tqdm import tqdm\n",
    "from bs4 import BeautifulSoup\n",
    "from collections import defaultdict\n",
    "from urllib.request import Request, urlopen\n",
    "import pandas as pd\n",
    "\n",
    "load_path = '/data/zhaohan/adv-reasoning/data/cyberkg-raw/cve_ex_links/top1.www.securityfocus.com.60510.csv'\n",
    "save_path = '/data/zhaohan/adv-reasoning/data/cyberkg-raw/cve_patch/www.securityfocus.com'\n",
    "\n",
    "saved_info = defaultdict(list)\n",
    "\n",
    "data = pd.read_csv(load_path, delimiter='|',  index_col=0, header=0)\n",
    "counter = 0\n",
    "for index, row in tqdm(data.iterrows(), desc='reading links from www.securityfocus.com'):\n",
    "    cve_ids = row['cve-ids']\n",
    "    ex_url = row['ex_url']\n",
    "    types = row['types']\n",
    "    for key in row.keys():\n",
    "        saved_info[key].append(row[key])\n",
    "    \n",
    "    solution_text = ''\n",
    "    if ex_url.startswith(('http://www.securityfocus.com/bid/', \n",
    "                          'https://www.securityfocus.com/bid/')):\n",
    "        # those are formal web records at least with 'solution' section\n",
    "        solution_url = os.path.join(ex_url, 'solution')\n",
    "        try:\n",
    "            req = Request(solution_url, headers={'User-Agent': 'Mozilla/5.0'})\n",
    "            webpage = urlopen(req).read()\n",
    "            html = BeautifulSoup(webpage, 'html.parser')\n",
    "            for div in html.find_all('div', attrs={'id': 'vulnerability'}):\n",
    "                solution_text = div.text.split('Solution:')[-1].strip()\n",
    "                solution_text = solution_text.replace(\"\\n\", \"<LINE BREAK>\")\n",
    "                solution_text = solution_text.replace(\"|\", \"<OR SPLITTER>\")\n",
    "        except:\n",
    "            print(ex_url)\n",
    "    \n",
    "    elif ex_url.startswith(('http://www.securityfocus.com/archive/', \n",
    "                            'https://www.securityfocus.com/archive/',\n",
    "                            'http://www.securityfocus.com//archive/')):\n",
    "        # those are textual posts that may contain solution or not. \n",
    "        pass\n",
    "    elif ex_url.startswith(('http://www.securityfocus.com/advisories/')):\n",
    "        # those are 'malformed request' webpage, looks useless\n",
    "        pass\n",
    "    else:\n",
    "        # those are useless or invalid links\n",
    "        pass\n",
    "            \n",
    "    saved_info['solution'].append(solution_text)\n",
    "    \n",
    "    if len(saved_info['cve-ids']) % 500 == 0:\n",
    "        df = pd.DataFrame.from_dict(saved_info)\n",
    "        os.makedirs(save_path, exist_ok=True)\n",
    "        df.to_csv(os.path.join(save_path, '%d.csv' % counter), sep='|')\n",
    "        \n",
    "        saved_info = defaultdict(list)\n",
    "        counter += 1\n",
    "\n"
   ]
  },
  {
   "cell_type": "code",
   "execution_count": null,
   "metadata": {},
   "outputs": [],
   "source": []
  }
 ],
 "metadata": {
  "kernelspec": {
   "display_name": "py39",
   "language": "python",
   "name": "py39"
  },
  "language_info": {
   "codemirror_mode": {
    "name": "ipython",
    "version": 3
   },
   "file_extension": ".py",
   "mimetype": "text/x-python",
   "name": "python",
   "nbconvert_exporter": "python",
   "pygments_lexer": "ipython3",
   "version": "3.9.5"
  }
 },
 "nbformat": 4,
 "nbformat_minor": 2
}
